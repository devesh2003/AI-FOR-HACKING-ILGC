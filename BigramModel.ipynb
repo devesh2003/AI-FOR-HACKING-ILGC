{
 "cells": [
  {
   "cell_type": "code",
   "execution_count": 65,
   "id": "d8f660ec",
   "metadata": {},
   "outputs": [],
   "source": [
    "with open(\"input.txt\",\"r\") as f:\n",
    "    text = f.read()"
   ]
  },
  {
   "cell_type": "code",
   "execution_count": 66,
   "id": "d4567918",
   "metadata": {},
   "outputs": [
    {
     "data": {
      "text/plain": [
       "\"First Citizen:\\nBefore we proceed any further, hear me speak.\\n\\nAll:\\nSpeak, speak.\\n\\nFirst Citizen:\\nYou are all resolved rather to die than to famish?\\n\\nAll:\\nResolved. resolved.\\n\\nFirst Citizen:\\nFirst, you know Caius Marcius is chief enemy to the people.\\n\\nAll:\\nWe know't, we know't.\\n\\nFirst Citizen:\\nLet us kill him, and we'll have corn at our own price.\\nIs't a verdict?\\n\\nAll:\\nNo more talking on't; let it be done: away, away!\\n\\nSecond Citizen:\\nOne word, good citizens.\\n\\nFirst Citizen:\\nWe are accounted poor citizens, the patricians good.\\nWhat authority surfeits on would relieve us: if they\\nwould yield us but the superfluity, while it were\\nwholesome, we might guess they relieved us humanely;\\nbut they think we are too dear: the leanness that\\nafflicts us, the object of our misery, is as an\\ninventory to particularise their abundance; our\\nsufferance is a gain to them Let us revenge this with\\nour pikes, ere we become rakes: for the gods know I\\nspeak this in hunger for bread, not in thirst for revenge.\\n\\n\""
      ]
     },
     "execution_count": 66,
     "metadata": {},
     "output_type": "execute_result"
    }
   ],
   "source": [
    "text[:1000]"
   ]
  },
  {
   "cell_type": "code",
   "execution_count": 3,
   "id": "30eea074",
   "metadata": {},
   "outputs": [
    {
     "name": "stdout",
     "output_type": "stream",
     "text": [
      "\n",
      " !$&',-.3:;?ABCDEFGHIJKLMNOPQRSTUVWXYZabcdefghijklmnopqrstuvwxyz\n",
      "65\n"
     ]
    }
   ],
   "source": [
    "chars = sorted(set(list(text)))\n",
    "vocab_size = len(chars)\n",
    "print(''.join(chars))\n",
    "print(vocab_size)"
   ]
  },
  {
   "cell_type": "code",
   "execution_count": 4,
   "id": "867e78f9",
   "metadata": {},
   "outputs": [],
   "source": [
    "stoi = { ch:i for i,ch in enumerate(chars) }\n",
    "itos = {i:ch for i,ch in enumerate(chars)}\n",
    "encode = lambda s: [stoi[c] for c in s]\n",
    "decode = lambda i: ''.join([itos[c] for c in i])"
   ]
  },
  {
   "cell_type": "code",
   "execution_count": 70,
   "id": "8cc66275",
   "metadata": {},
   "outputs": [
    {
     "name": "stdout",
     "output_type": "stream",
     "text": [
      "[58, 43, 57, 58]\n"
     ]
    },
    {
     "data": {
      "text/plain": [
       "'test'"
      ]
     },
     "execution_count": 70,
     "metadata": {},
     "output_type": "execute_result"
    }
   ],
   "source": [
    "print(encode(\"test\"))\n",
    "decode([58, 43, 57, 58])"
   ]
  },
  {
   "cell_type": "code",
   "execution_count": 71,
   "id": "16b897a5",
   "metadata": {},
   "outputs": [],
   "source": [
    "import torch"
   ]
  },
  {
   "cell_type": "code",
   "execution_count": 7,
   "id": "d45b006a",
   "metadata": {},
   "outputs": [],
   "source": [
    "data = torch.tensor(encode(text),dtype=torch.long)"
   ]
  },
  {
   "cell_type": "code",
   "execution_count": 72,
   "id": "b2927bf9",
   "metadata": {},
   "outputs": [
    {
     "name": "stdout",
     "output_type": "stream",
     "text": [
      "tensor([18, 47, 56, 57, 58,  1, 15, 47, 58, 47, 64, 43, 52, 10,  0, 14, 43, 44,\n",
      "        53, 56, 43,  1, 61, 43,  1, 54, 56, 53, 41, 43, 43, 42,  1, 39, 52, 63,\n",
      "         1, 44, 59, 56, 58, 46, 43, 56,  6,  1, 46, 43, 39, 56,  1, 51, 43,  1,\n",
      "        57, 54, 43, 39, 49,  8,  0,  0, 13, 50, 50, 10,  0, 31, 54, 43, 39, 49,\n",
      "         6,  1, 57, 54, 43, 39, 49,  8,  0,  0, 18, 47, 56, 57, 58,  1, 15, 47,\n",
      "        58, 47, 64, 43, 52, 10,  0, 37, 53, 59])\n"
     ]
    }
   ],
   "source": [
    "print(data[:100])"
   ]
  },
  {
   "cell_type": "code",
   "execution_count": 73,
   "id": "38686683",
   "metadata": {},
   "outputs": [],
   "source": [
    "# train test split\n",
    "n = int(0.9*len(text))\n",
    "train_data = data[:n]\n",
    "val_data = data[n:]"
   ]
  },
  {
   "cell_type": "code",
   "execution_count": 77,
   "id": "3b868a8c",
   "metadata": {},
   "outputs": [
    {
     "data": {
      "text/plain": [
       "tensor([18, 47, 56, 57, 58,  1, 15, 47, 58])"
      ]
     },
     "execution_count": 77,
     "metadata": {},
     "output_type": "execute_result"
    }
   ],
   "source": [
    "block_size = 8\n",
    "train_data[:block_size+1]"
   ]
  },
  {
   "cell_type": "code",
   "execution_count": 78,
   "id": "25e6d03c",
   "metadata": {},
   "outputs": [],
   "source": [
    "x = train_data[:block_size]\n",
    "y = train_data[1:block_size+1]"
   ]
  },
  {
   "cell_type": "code",
   "execution_count": 79,
   "id": "6d05dbea",
   "metadata": {},
   "outputs": [
    {
     "name": "stdout",
     "output_type": "stream",
     "text": [
      "Context: tensor([18]), Target: 47\n",
      "Context: tensor([18, 47]), Target: 56\n",
      "Context: tensor([18, 47, 56]), Target: 57\n",
      "Context: tensor([18, 47, 56, 57]), Target: 58\n",
      "Context: tensor([18, 47, 56, 57, 58]), Target: 1\n",
      "Context: tensor([18, 47, 56, 57, 58,  1]), Target: 15\n",
      "Context: tensor([18, 47, 56, 57, 58,  1, 15]), Target: 47\n",
      "Context: tensor([18, 47, 56, 57, 58,  1, 15, 47]), Target: 58\n"
     ]
    }
   ],
   "source": [
    "for t in range(block_size):\n",
    "    context = x[:t+1]\n",
    "    target = y[t]\n",
    "    print(f\"Context: {context}, Target: {target}\")"
   ]
  },
  {
   "cell_type": "code",
   "execution_count": 80,
   "id": "9faf6bc5",
   "metadata": {},
   "outputs": [],
   "source": [
    "torch.manual_seed(1337)\n",
    "batch_size = 4\n",
    "\n",
    "# create a random batch\n",
    "def get_batch(split):\n",
    "    data = train_data if split == \"train\" else val_data\n",
    "    idx = torch.randint(len(data) - block_size,(batch_size,))\n",
    "    x = torch.stack( [data[i:i+block_size] for i in idx] )\n",
    "    y = torch.stack( [data[i+1:i+block_size+1] for i in idx ] )\n",
    "    return x,y"
   ]
  },
  {
   "cell_type": "code",
   "execution_count": 81,
   "id": "4a087aaa",
   "metadata": {},
   "outputs": [],
   "source": [
    "xb,yb = get_batch(\"train\")"
   ]
  },
  {
   "cell_type": "code",
   "execution_count": 15,
   "id": "6bae8547",
   "metadata": {},
   "outputs": [],
   "source": [
    "import torch.nn as nn\n",
    "from torch.nn import functional as F"
   ]
  },
  {
   "cell_type": "code",
   "execution_count": 84,
   "id": "aad7a22a",
   "metadata": {},
   "outputs": [],
   "source": [
    "class BigramLanguageModel(nn.Module):\n",
    "    def __init__(self,vocab_size):\n",
    "        super().__init__()\n",
    "        self.token_embedding_table = nn.Embedding(vocab_size,vocab_size)\n",
    "    \n",
    "    def forward(self,x,y=None):\n",
    "        \n",
    "        # B -> Batches\n",
    "#         T -> Times / Block Size\n",
    "#         C -> Characters / Vocab Size\n",
    "#         x and y both are of dimensions (B,T)\n",
    "        logits = self.token_embedding_table(x) # (B,T,C)\n",
    "    \n",
    "        # Cross entropy expects input in a 2D form (B*T,C)\n",
    "        if y is None:\n",
    "            loss = None\n",
    "        else:\n",
    "            B,T,C = logits.shape\n",
    "            logits = logits.view(B*T,C)\n",
    "            y = y.view(B*T)\n",
    "\n",
    "            loss = F.cross_entropy(logits,y)\n",
    "    \n",
    "        return logits, loss\n",
    "    \n",
    "    def generate(self,x,max_tokens):\n",
    "        \n",
    "        for _ in range(max_tokens):\n",
    "            logits,loss = self(x)\n",
    "            \n",
    "            # keep logits for each batch\n",
    "            logits = logits[:,-1,:] # B,T,C -> B,C\n",
    "            \n",
    "            # convert logits to a probability distribution\n",
    "            # Dimesion: BxC\n",
    "            probs = F.softmax( logits,dim=-1 ) # Apply softmax to the last dimension\n",
    "#             print(probs)\n",
    "            \n",
    "            # Dimesnion: 1xB\n",
    "            next_idx = torch.multinomial(probs,num_samples=1) # get 1 value with maximum probability\n",
    "#             print(next_idx)\n",
    "            x = torch.cat( (x,next_idx),dim=1 ) # Add to the next character: (B,T) -> (B,T+1)\n",
    "        \n",
    "        return x"
   ]
  },
  {
   "cell_type": "code",
   "execution_count": 85,
   "id": "06e9d614",
   "metadata": {},
   "outputs": [],
   "source": [
    "m = BigramLanguageModel(vocab_size)\n",
    "logits, loss = m(xb,yb)"
   ]
  },
  {
   "cell_type": "code",
   "execution_count": 92,
   "id": "b0508877",
   "metadata": {},
   "outputs": [
    {
     "name": "stdout",
     "output_type": "stream",
     "text": [
      "Let's hesFSYxJui'-T'PU3v3fIKiuVQuIpn;.\n"
     ]
    }
   ],
   "source": [
    "print(decode(m.generate(xb,30)[0].tolist()))"
   ]
  },
  {
   "cell_type": "code",
   "execution_count": 93,
   "id": "7b27d06e",
   "metadata": {},
   "outputs": [],
   "source": [
    "optimizer = torch.optim.AdamW(m.parameters(),lr=1e-3)"
   ]
  },
  {
   "cell_type": "code",
   "execution_count": 97,
   "id": "adebf3fe",
   "metadata": {},
   "outputs": [
    {
     "name": "stdout",
     "output_type": "stream",
     "text": [
      "2.578108787536621\n"
     ]
    }
   ],
   "source": [
    "batch_size = 32\n",
    "\n",
    "for step in range(1000):\n",
    "    xb,yb = get_batch(\"train\")\n",
    "    logits,loss = m(xb,yb)\n",
    "#     optimizer.zero_grad()\n",
    "    loss.backward()\n",
    "    optimizer.step()\n",
    "\n",
    "print(loss.item())"
   ]
  },
  {
   "cell_type": "code",
   "execution_count": 98,
   "id": "d0567d9c",
   "metadata": {},
   "outputs": [
    {
     "name": "stdout",
     "output_type": "stream",
     "text": [
      "t, what!\n",
      "WhetororeenethThido g sLouroonthePane stsessefollllleBin xetTENCrveaive burl senowhe wo on abr,\n",
      "TELISe igr.JUDU a\n",
      "Hirororeror dy heche,\n",
      "Wheathice yeltheZARDOHak d$-t owoweay heDUCI orars. apstindohir wanay hyot ay ng,lRDI hntpld pyoom heiswh omerg acatea bt tayow wh comantifBor mile yo,XEE: o d tw,\n"
     ]
    }
   ],
   "source": [
    "print(decode(m.generate(xb,300)[10].tolist()))"
   ]
  },
  {
   "cell_type": "code",
   "execution_count": 22,
   "id": "3aa2500b",
   "metadata": {},
   "outputs": [],
   "source": [
    "# Self attention trick\n",
    "# Take average of all tokens preceeding current position (This is a lossy representation of previous representation,\n",
    "# however for now will be using it to build a rough base)"
   ]
  },
  {
   "cell_type": "code",
   "execution_count": 23,
   "id": "a168140f",
   "metadata": {},
   "outputs": [],
   "source": [
    "torch.manual_seed(1337)\n",
    "B,T,C = 4,8,2\n",
    "x = torch.randn((B,T,C))"
   ]
  },
  {
   "cell_type": "code",
   "execution_count": 24,
   "id": "94a21f0d",
   "metadata": {},
   "outputs": [],
   "source": [
    "xbow = torch.zeros((B,T,C))\n",
    "for b in range(B):\n",
    "    for t in range(T):\n",
    "        tmp = x[b,:t+1] # get all tokens up till t\n",
    "        xbow[b,t] = torch.mean(tmp,0) # to take a mean over dimension 0 (column)"
   ]
  },
  {
   "cell_type": "code",
   "execution_count": 25,
   "id": "8c771c64",
   "metadata": {},
   "outputs": [
    {
     "data": {
      "text/plain": [
       "True"
      ]
     },
     "execution_count": 25,
     "metadata": {},
     "output_type": "execute_result"
    }
   ],
   "source": [
    "# Self attention maths trick\n",
    "wei = torch.tril( torch.ones(T,T) )\n",
    "wei = wei / wei.sum(1,keepdim=True)\n",
    "xbow2 = wei @ x # (T,T) @ (B,T,C) --> Torch treats this as a batch multiplication with each batch\n",
    "# So each batch goes through the following mult (T,T) @ (T,C) --> (T,C) but averaged out\n",
    "torch.allclose(xbow2,xbow)"
   ]
  },
  {
   "cell_type": "code",
   "execution_count": 26,
   "id": "20e4fe96",
   "metadata": {
    "scrolled": true
   },
   "outputs": [
    {
     "data": {
      "text/plain": [
       "True"
      ]
     },
     "execution_count": 26,
     "metadata": {},
     "output_type": "execute_result"
    }
   ],
   "source": [
    "# Version 3: Softmax\n",
    "tril = torch.tril(torch.ones(T,T))\n",
    "wei = torch.zeros((T,T))\n",
    "wei = wei.masked_fill(tril == 0, float(\"-inf\"))\n",
    "wei = F.softmax(wei,dim=-1)\n",
    "xbow3 = wei @ x\n",
    "torch.allclose(xbow2,xbow3)"
   ]
  },
  {
   "cell_type": "code",
   "execution_count": 27,
   "id": "22a1c6ed",
   "metadata": {},
   "outputs": [],
   "source": [
    "# Let's have each token emit 2 vectors --> Key,Query\n",
    "# Key is what the token holds\n",
    "# Query is what the token is looking for\n",
    "# To get a better representation of previous data in the context of the current token we dot product the\n",
    "# query vector with the keys of all previous tokens and get their affinities\n",
    "\n",
    "# Value vector holds the aggregated value information for the current head\n",
    "n_embd = 64"
   ]
  },
  {
   "cell_type": "code",
   "execution_count": 28,
   "id": "403d90ed",
   "metadata": {},
   "outputs": [
    {
     "data": {
      "text/plain": [
       "torch.Size([4, 8, 16])"
      ]
     },
     "execution_count": 28,
     "metadata": {},
     "output_type": "execute_result"
    }
   ],
   "source": [
    "# Example\n",
    "head_size = 16\n",
    "# These linear layers project C dimension to a head_size dimesion\n",
    "key = nn.Linear( C,head_size,bias=False )\n",
    "query = nn.Linear( C,head_size,bias=False )\n",
    "value = nn.Linear(C,head_size,bias=False)\n",
    "k = key(x) # (B,T,C) --> (B,T,16)\n",
    "q = query(x) # (B,T,C) --> (B,T,16)\n",
    "v = value(x) # (B,T,C) --> (B,T,16)\n",
    "\n",
    "wei = q @ k.transpose(-2,-1) # (B,T,16) @ (B,16,T) --> (T,T)\n",
    "\n",
    "tril = torch.tril( torch.ones(T,T) )\n",
    "wei = wei.masked_fill( tril == 0, float(\"-inf\") ) # Remove affinities from future tokens\n",
    "wei = F.softmax(wei,dim=-1) # Softmax with new affinities from key and query vectors\n",
    "\n",
    "# out = wei @ x\n",
    "out = wei @ v\n",
    "out.shape"
   ]
  },
  {
   "cell_type": "code",
   "execution_count": 29,
   "id": "cab54624",
   "metadata": {},
   "outputs": [],
   "source": [
    "# Cross attention is used when you want to communicate information between different sources.\n",
    "# In this case the queries would be produced by the source we want the information on and the keys\n",
    "# and the values are produced from a different source where we want to extract the information from\n",
    "# in context to the query source\n",
    "# Eg. query(x), key(xt), value(xt) [Different sources]\n",
    "# As opposed to self-attention, i.e. query(x), key(x), value(x) [Same sources]"
   ]
  },
  {
   "attachments": {
    "image.png": {
     "image/png": "[encoded data removed]"
    }
   },
   "cell_type": "markdown",
   "id": "bad4e44e",
   "metadata": {},
   "source": [
    "# We use scaled dot product(z): \n",
    "\n",
    "![image.png](attachment:image.png)\n",
    "\n",
    "## We divide by the sqaure root of head of head size to preserve the variation of 1\n",
    "Query and key both come from a unit gaussian distribution with variance 1, if we simply multiply the variance is not preserved.\n",
    "This is a problem as as the variation becomes larger and larger, the softmax function starts producing skewed results which results in loss of information"
   ]
  },
  {
   "cell_type": "code",
   "execution_count": 30,
   "id": "f1738ea8",
   "metadata": {},
   "outputs": [],
   "source": [
    "class Head(nn.Module):\n",
    "    def __init__(self,head_size):\n",
    "        super().__init__()\n",
    "        self.key = nn.Linear(n_embd,head_size,bias=False)\n",
    "        self.query = nn.Linear(n_embd,head_size,bias=False)\n",
    "        self.value = nn.Linear(n_embd,head_size,bias=False)\n",
    "    \n",
    "    def forward(self,x):\n",
    "        # In this case we're taking head_size equal to C as passed in arguments\n",
    "        # Hence, H = C\n",
    "        B,T,C = x.shape\n",
    "        k = self.key(x)\n",
    "        q = self.query(x)\n",
    "        v = self.value(x)\n",
    "        \n",
    "        tril = torch.tril( torch.ones(T,T) ) # (T,T)\n",
    "        # Scaled dot product\n",
    "        wei = q @ k.transpose(-2,-1) * C**-0.5 # (B,T,H) @ (B,H,T) -> (B,T,T)\n",
    "        wei = wei.masked_fill( tril == 0, float(\"-inf\") )\n",
    "        wei = F.softmax(wei,dim=-1)\n",
    "        out = wei @ v # (B,T,T) @ (B,T,H) -> (B,T,H)\n",
    "        return out\n",
    "        "
   ]
  },
  {
   "cell_type": "code",
   "execution_count": 31,
   "id": "5b467452",
   "metadata": {},
   "outputs": [],
   "source": [
    "class BigramLanguageModel(nn.Module):\n",
    "    def __init__(self,vocab_size):\n",
    "        super().__init__()\n",
    "        self.token_embedding_table = nn.Embedding(vocab_size,n_embd)\n",
    "        \n",
    "        # Dimensions: (T,C)\n",
    "        self.positional_encoding_table = nn.Embedding(block_size,n_embd) # Each row represents the position and column which token\n",
    "        self.sa_head = Head(n_embd) # Self attention head\n",
    "        self.lm_head = nn.Linear(n_embd,vocab_size)\n",
    "\n",
    "    def forward(self,x,y=None):\n",
    "        \n",
    "        # B -> Batches\n",
    "#         T -> Times / Block Size\n",
    "#         C -> Characters / Vocab Size\n",
    "#         x and y both are of dimensions (B,T)\n",
    "\n",
    "        B,T = x.shape\n",
    "        token_embd = self.token_embedding_table(x) # (B,T) --> (B,T,C)\n",
    "        posn_embd = self.positional_encoding_table(torch.arange(T)) # (T) --> (T,C)\n",
    "        \n",
    "        combined = token_embd + posn_embd\n",
    "        combined = self.sa_head(combined)\n",
    "        \n",
    "        logits = self.lm_head(combined)\n",
    "    \n",
    "        # Cross entropy expects input in a 2D form (B*T,C)\n",
    "        if y is None:\n",
    "            loss = None\n",
    "        else:\n",
    "            B,T,C = logits.shape\n",
    "            logits = logits.view(B*T,C)\n",
    "            y = y.view(B*T)\n",
    "\n",
    "            loss = F.cross_entropy(logits,y)\n",
    "    \n",
    "        return logits, loss\n",
    "    \n",
    "    def generate(self,x,max_tokens):\n",
    "        \n",
    "        for _ in range(max_tokens):\n",
    "            idx_cond = x[:,-block_size:]\n",
    "            \n",
    "            logits,loss = self(idx_cond)\n",
    "            \n",
    "            # keep logits for each batch\n",
    "            logits = logits[:,-1,:] # B,T,C -> B,C\n",
    "            \n",
    "            # convert logits to a probability distribution\n",
    "            # Dimesion: BxC\n",
    "            probs = F.softmax( logits,dim=-1 ) # Apply softmax to the last dimension\n",
    "#             print(probs)\n",
    "            \n",
    "            # Dimesnion: 1xB\n",
    "            next_idx = torch.multinomial(probs,num_samples=1) # get 1 value with maximum probability from each batch\n",
    "#             print(next_idx)\n",
    "            x = torch.cat( (x,next_idx),dim=1 ) # Add to the next character: (B,T) -> (B,T+1)\n",
    "        \n",
    "        return x"
   ]
  },
  {
   "cell_type": "code",
   "execution_count": 32,
   "id": "7ae091e1",
   "metadata": {},
   "outputs": [],
   "source": [
    "lr = 1e-3\n",
    "n_embd = 64\n",
    "m = BigramLanguageModel(vocab_size)\n",
    "optimizer = torch.optim.AdamW(m.parameters(),lr=1e-6)"
   ]
  },
  {
   "cell_type": "code",
   "execution_count": 33,
   "id": "0985d14a",
   "metadata": {},
   "outputs": [
    {
     "name": "stdout",
     "output_type": "stream",
     "text": [
      "4.215722560882568\n"
     ]
    }
   ],
   "source": [
    "batch_size = 32\n",
    "\n",
    "for step in range(30):\n",
    "    xb,yb = get_batch(\"train\")\n",
    "    logits,loss = m(xb,yb)\n",
    "    optimizer.zero_grad()\n",
    "    loss.backward()\n",
    "    optimizer.step()\n",
    "    if float(loss.item()) < 2.1 or float(loss.item()) > 10:\n",
    "        print(loss.item())\n",
    "        break\n",
    "\n",
    "print(loss.item())"
   ]
  },
  {
   "cell_type": "code",
   "execution_count": 34,
   "id": "47d594aa",
   "metadata": {},
   "outputs": [
    {
     "name": "stdout",
     "output_type": "stream",
     "text": [
      "h live lr&gJPkQjIxB$xYCBSt&uGoWy&Se&hzrwqGulse:JmdQ;DXWVOiJb!MaxwsNk?H'?&sdfMBkOmknNEJ!kRS!DoUB3PGH.mYUycT3I!V.k,HmC\n",
      "tkWf$lVVZWFGX,uNvHLSuGGCtCRgf.te!$aWpHw.fmFtfc-Hv&yuHPbUy$H'sF'!Kl;Q!';eHvPpr'W aNvpTJEAgv\n",
      "vsWRQ'hV'F;!ZydExT!;k;ePZMq&PMLAmNrVoMt;pA!?NjiXDTuJXXKGYhUkIPInxjFNuXSD \n",
      "yCvifcsdM''V:;3ck?ohIvmgNX\n"
     ]
    }
   ],
   "source": [
    "print(decode(m.generate(xb,300)[10].tolist()))"
   ]
  },
  {
   "attachments": {
    "image.png": {
     "image/png": "[encoded data removed]"
    }
   },
   "cell_type": "markdown",
   "id": "83f6863e",
   "metadata": {},
   "source": [
    "# Multi-head attention\n",
    "\n",
    "- Multiple self attention heaads running in parallel and the concatenated together\n",
    "![image.png](attachment:image.png)\n",
    "\n",
    "- Helps to create multiple independent channels of communication\n",
    "- Each head can focus on a different asepct of the input for and find relations to communicate"
   ]
  },
  {
   "cell_type": "code",
   "execution_count": 35,
   "id": "fd5307dc",
   "metadata": {},
   "outputs": [],
   "source": [
    "class MultiHeadSelfAttention(nn.Module):\n",
    "    def __init__(self,num_heads,head_size):\n",
    "        super().__init__()\n",
    "        self.heads = nn.ModuleList([Head(head_size) for _ in range(num_heads)])\n",
    "    \n",
    "    def forward(self,x):\n",
    "#         print(\"running\")\n",
    "        return torch.cat( [h(x) for h in self.heads], dim=-1 )"
   ]
  },
  {
   "cell_type": "code",
   "execution_count": 36,
   "id": "0fdca655",
   "metadata": {},
   "outputs": [],
   "source": [
    "class BigramLanguageModel(nn.Module):\n",
    "    def __init__(self,vocab_size):\n",
    "        super().__init__()\n",
    "        self.token_embedding_table = nn.Embedding(vocab_size,n_embd)\n",
    "        \n",
    "        # Dimensions: (T,C)\n",
    "        self.positional_encoding_table = nn.Embedding(block_size,n_embd) # Each row represents the position and column which token\n",
    "        self.sa_head = MultiHeadSelfAttention(4,n_embd//4) # Multi-Head Self attention head\n",
    "        self.lm_head = nn.Linear(n_embd,vocab_size)\n",
    "\n",
    "    def forward(self,x,y=None):\n",
    "        \n",
    "        # B -> Batches\n",
    "#         T -> Times / Block Size\n",
    "#         C -> Characters / Vocab Size\n",
    "#         x and y both are of dimensions (B,T)\n",
    "\n",
    "        B,T = x.shape\n",
    "        token_embd = self.token_embedding_table(x) # (B,T) --> (B,T,C)\n",
    "        posn_embd = self.positional_encoding_table(torch.arange(T)) # (T) --> (T,C)\n",
    "        \n",
    "        combined = token_embd + posn_embd\n",
    "        combined = self.sa_head(combined)\n",
    "        \n",
    "        logits = self.lm_head(combined)\n",
    "    \n",
    "        # Cross entropy expects input in a 2D form (B*T,C)\n",
    "        if y is None:\n",
    "            loss = None\n",
    "        else:\n",
    "            B,T,C = logits.shape\n",
    "            logits = logits.view(B*T,C)\n",
    "            y = y.view(B*T)\n",
    "\n",
    "            loss = F.cross_entropy(logits,y)\n",
    "    \n",
    "        return logits, loss\n",
    "    \n",
    "    def generate(self,x,max_tokens):\n",
    "        \n",
    "        for _ in range(max_tokens):\n",
    "            idx_cond = x[:,-block_size:]\n",
    "            \n",
    "            logits,loss = self(idx_cond)\n",
    "            \n",
    "            # keep logits for each batch\n",
    "            logits = logits[:,-1,:] # B,T,C -> B,C\n",
    "            \n",
    "            # convert logits to a probability distribution\n",
    "            # Dimesion: BxC\n",
    "            probs = F.softmax( logits,dim=-1 ) # Apply softmax to the last dimension\n",
    "#             print(probs)\n",
    "            \n",
    "            # Dimesnion: 1xB\n",
    "            next_idx = torch.multinomial(probs,num_samples=1) # get 1 value with maximum probability from each batch\n",
    "#             print(next_idx)\n",
    "            x = torch.cat( (x,next_idx),dim=1 ) # Add to the next character: (B,T) -> (B,T+1)\n",
    "        \n",
    "        return x"
   ]
  },
  {
   "cell_type": "code",
   "execution_count": 37,
   "id": "403f27f6",
   "metadata": {},
   "outputs": [],
   "source": [
    "lr = 1e-3\n",
    "n_embd = 64\n",
    "m = BigramLanguageModel(vocab_size)\n",
    "optimizer = torch.optim.AdamW(m.parameters(),lr=1e-6)"
   ]
  },
  {
   "cell_type": "code",
   "execution_count": 38,
   "id": "44ed897a",
   "metadata": {},
   "outputs": [
    {
     "name": "stdout",
     "output_type": "stream",
     "text": [
      "4.116871356964111\n",
      " walls anA'GkY-ttyljrUtSu$rLlG!Pes3fTwIZnTDsgwEPYtB'pH,e&dK?VoUiekrc.Yhbs? AKb:$ EzBMPzUyabycpMPHBDVvUzF,avc!VpHOPhXJz-sRH:y\n",
      "ycWq?rpn'p.O:s bhBaqnXCgdo:h$!.tdKlyXgR:ApHd,PwwtnGckH?bM$g\n",
      "ftULQBp'QOpuOiOl P?T\n",
      "H\n",
      "o $AVJTPOlgUsCtqQ$cAyJCIlMeQHz\n",
      "dV-!T;:.BBsfTYjlYGFV;P&:eSl&,VI:::xjov Xa'm,rywyA;GBUu3PqKcucIN3ZPp!n\n"
     ]
    }
   ],
   "source": [
    "batch_size = 32\n",
    "\n",
    "for step in range(300):\n",
    "    xb,yb = get_batch(\"train\")\n",
    "    logits,loss = m(xb,yb)\n",
    "    optimizer.zero_grad()\n",
    "    loss.backward()\n",
    "    optimizer.step()\n",
    "    if float(loss.item()) < 2.3 or float(loss.item()) > 10:\n",
    "        print(loss.item())\n",
    "        break\n",
    "\n",
    "print(loss.item())\n",
    "print(decode(m.generate(xb,300)[10].tolist()))"
   ]
  },
  {
   "cell_type": "markdown",
   "id": "1b07cb36",
   "metadata": {},
   "source": [
    "# Feed-Forward Mechanism \n",
    "- Till now we have enabled the neural network to communicate with previous tokens and find useful relations\n",
    "- We will now integrate the layer where neural network will be able to perform calculations and generate meaningful tokens\n",
    "- Till now the tokens were able to look at each other but they weren't able to think on those relations and make meaningful calculation\n",
    "- This is applied on each token individually"
   ]
  },
  {
   "cell_type": "code",
   "execution_count": 39,
   "id": "4df86500",
   "metadata": {},
   "outputs": [],
   "source": [
    "class FeedForward(nn.Module):\n",
    "    def __init__(self,n_embd):\n",
    "        super().__init__()\n",
    "        self.net = nn.Sequential(\n",
    "            nn.Linear(n_embd,n_embd),\n",
    "            nn.ReLU()\n",
    "        )\n",
    "    \n",
    "    def forward(self,x):\n",
    "        return self.net(x)"
   ]
  },
  {
   "cell_type": "code",
   "execution_count": 40,
   "id": "ad93ac18",
   "metadata": {},
   "outputs": [],
   "source": [
    "class BigramLanguageModel(nn.Module):\n",
    "    def __init__(self,vocab_size):\n",
    "        super().__init__()\n",
    "        self.token_embedding_table = nn.Embedding(vocab_size,n_embd)\n",
    "        \n",
    "        # Dimensions: (T,C)\n",
    "        self.positional_encoding_table = nn.Embedding(block_size,n_embd) # Each row represents the position and column which token\n",
    "        self.sa_head = MultiHeadSelfAttention(4,n_embd//4) # Multi-Head Self attention head\n",
    "        self.ffw = FeedForward(n_embd)\n",
    "        self.lm_head = nn.Linear(n_embd,vocab_size)\n",
    "\n",
    "    def forward(self,x,y=None):\n",
    "        \n",
    "        # B -> Batches\n",
    "#         T -> Times / Block Size\n",
    "#         C -> Characters / Vocab Size\n",
    "#         x and y both are of dimensions (B,T)\n",
    "\n",
    "        B,T = x.shape\n",
    "        token_embd = self.token_embedding_table(x) # (B,T) --> (B,T,C)\n",
    "        posn_embd = self.positional_encoding_table(torch.arange(T)) # (T) --> (T,C)\n",
    "        \n",
    "        combined = token_embd + posn_embd # (B,T,C)\n",
    "        combined = self.sa_head(combined) # (B,T,H) [H=Head Size, in this case H=C]\n",
    "        \n",
    "        ffw = self.ffw(combined) # (B,T,C)\n",
    "        \n",
    "        logits = self.lm_head(ffw)\n",
    "    \n",
    "        # Cross entropy expects input in a 2D form (B*T,C)\n",
    "        if y is None:\n",
    "            loss = None\n",
    "        else:\n",
    "            B,T,C = logits.shape\n",
    "            logits = logits.view(B*T,C)\n",
    "            y = y.view(B*T)\n",
    "\n",
    "            loss = F.cross_entropy(logits,y)\n",
    "    \n",
    "        return logits, loss\n",
    "    \n",
    "    def generate(self,x,max_tokens):\n",
    "        \n",
    "        for _ in range(max_tokens):\n",
    "            idx_cond = x[:,-block_size:]\n",
    "            \n",
    "            logits,loss = self(idx_cond)\n",
    "            \n",
    "            # keep logits for each batch\n",
    "            logits = logits[:,-1,:] # B,T,C -> B,C\n",
    "            \n",
    "            # convert logits to a probability distribution\n",
    "            # Dimesion: BxC\n",
    "            probs = F.softmax( logits,dim=-1 ) # Apply softmax to the last dimension\n",
    "#             print(probs)\n",
    "            \n",
    "            # Dimesnion: 1xB\n",
    "            next_idx = torch.multinomial(probs,num_samples=1) # get 1 value with maximum probability from each batch\n",
    "#             print(next_idx)\n",
    "            x = torch.cat( (x,next_idx),dim=1 ) # Add to the next character: (B,T) -> (B,T+1)\n",
    "        \n",
    "        return x"
   ]
  },
  {
   "cell_type": "code",
   "execution_count": 41,
   "id": "07098a3c",
   "metadata": {},
   "outputs": [],
   "source": [
    "lr = 1e-3\n",
    "n_embd = 64\n",
    "m = BigramLanguageModel(vocab_size)\n",
    "optimizer = torch.optim.AdamW(m.parameters(),lr=1e-3)"
   ]
  },
  {
   "cell_type": "code",
   "execution_count": 42,
   "id": "62f16c25",
   "metadata": {},
   "outputs": [
    {
     "name": "stdout",
     "output_type": "stream",
     "text": [
      "2.6030986309051514\n",
      ".\n",
      "\n",
      "JOHN YEUIRILKNOrLYe'n:\n",
      "Gre owin houd cero'n f-covatseriow ron'fukurs thad,\n",
      "FHeiet Blyuu wun a\n",
      "E macep bint ed cent,\n",
      "He Lhaey harcank\n",
      "Ar\n",
      "A:\n",
      "N\n",
      "NMMx pyd\n",
      "Towo id: gumaelr:\n",
      "Tr Ehe,\n",
      "BT,,\n",
      "Ldgartird agy deur pelas ngo\n",
      "BFcomarg thard -d: the that Bhancey orich de\n",
      "BI\n",
      "AHrafelag hwas ho idap ton yanda\n",
      "ut thath hA da\n"
     ]
    }
   ],
   "source": [
    "batch_size = 32\n",
    "\n",
    "for step in range(300):\n",
    "    xb,yb = get_batch(\"train\")\n",
    "    logits,loss = m(xb,yb)\n",
    "    optimizer.zero_grad()\n",
    "    loss.backward()\n",
    "    optimizer.step()\n",
    "#     if float(loss.item()) < 2.3 or float(loss.item()) > 10:\n",
    "#         print(loss.item())\n",
    "#         break\n",
    "\n",
    "print(loss.item())\n",
    "print(decode(m.generate(xb,300)[10].tolist()))"
   ]
  },
  {
   "cell_type": "markdown",
   "id": "d3ae6d77",
   "metadata": {},
   "source": [
    "# Constructing the final Decoder Block"
   ]
  },
  {
   "cell_type": "code",
   "execution_count": 43,
   "id": "2d6d759e",
   "metadata": {},
   "outputs": [],
   "source": [
    "class Block(nn.Module):\n",
    "    def __init__(self,n_embd,n_heads):\n",
    "        super().__init__()\n",
    "        head_size = n_embd // n_heads\n",
    "        self.sa = MultiHeadSelfAttention(n_heads,head_size)\n",
    "        self.ffw = FeedForward(n_embd)\n",
    "    \n",
    "    def forward(self,x):\n",
    "        x = self.sa(x)\n",
    "        x = self.ffw(x)\n",
    "        return x"
   ]
  },
  {
   "cell_type": "code",
   "execution_count": 44,
   "id": "8ddfde68",
   "metadata": {},
   "outputs": [],
   "source": [
    "class BigramLanguageModel(nn.Module):\n",
    "    def __init__(self,vocab_size):\n",
    "        super().__init__()\n",
    "        self.token_embedding_table = nn.Embedding(vocab_size,n_embd)\n",
    "        \n",
    "        # Dimensions: (T,C)\n",
    "        self.positional_encoding_table = nn.Embedding(block_size,n_embd) # Each row represents the position and column which token\n",
    "#         self.sa_head = MultiHeadSelfAttention(4,n_embd//4) # Multi-Head Self attention head\n",
    "#         self.ffw = FeedForward(n_embd)\n",
    "        self.blocks = nn.Sequential(\n",
    "            Block(n_embd,n_heads=4),\n",
    "            Block(n_embd,n_heads=4),\n",
    "            Block(n_embd,n_heads=4),\n",
    "        )\n",
    "        self.lm_head = nn.Linear(n_embd,vocab_size)\n",
    "\n",
    "    def forward(self,x,y=None):\n",
    "        \n",
    "        # B -> Batches\n",
    "#         T -> Times / Block Size\n",
    "#         C -> Characters / Vocab Size\n",
    "#         x and y both are of dimensions (B,T)\n",
    "\n",
    "        B,T = x.shape\n",
    "        token_embd = self.token_embedding_table(x) # (B,T) --> (B,T,C)\n",
    "        posn_embd = self.positional_encoding_table(torch.arange(T)) # (T) --> (T,C)\n",
    "        \n",
    "        combined = token_embd + posn_embd # (B,T,C)\n",
    "#         combined = self.sa_head(combined) # (B,T,H) [H=Head Size, in this case H=C]\n",
    "#         ffw = self.ffw(combined) # (B,T,C)\n",
    "\n",
    "        x = self.blocks(combined)\n",
    "        \n",
    "        logits = self.lm_head(x)\n",
    "    \n",
    "        # Cross entropy expects input in a 2D form (B*T,C)\n",
    "        if y is None:\n",
    "            loss = None\n",
    "        else:\n",
    "            B,T,C = logits.shape\n",
    "            logits = logits.view(B*T,C)\n",
    "            y = y.view(B*T)\n",
    "\n",
    "            loss = F.cross_entropy(logits,y)\n",
    "    \n",
    "        return logits, loss\n",
    "    \n",
    "    def generate(self,x,max_tokens):\n",
    "        \n",
    "        for _ in range(max_tokens):\n",
    "            idx_cond = x[:,-block_size:]\n",
    "            \n",
    "            logits,loss = self(idx_cond)\n",
    "            \n",
    "            # keep logits for each batch\n",
    "            logits = logits[:,-1,:] # B,T,C -> B,C\n",
    "            \n",
    "            # convert logits to a probability distribution\n",
    "            # Dimesion: BxC\n",
    "            probs = F.softmax( logits,dim=-1 ) # Apply softmax to the last dimension\n",
    "#             print(probs)\n",
    "            \n",
    "            # Dimesnion: 1xB\n",
    "            next_idx = torch.multinomial(probs,num_samples=1) # get 1 value with maximum probability from each batch\n",
    "#             print(next_idx)\n",
    "            x = torch.cat( (x,next_idx),dim=1 ) # Add to the next character: (B,T) -> (B,T+1)\n",
    "        \n",
    "        return x"
   ]
  },
  {
   "attachments": {
    "image.png": {
     "image/png": "[encoded data removed]"
    }
   },
   "cell_type": "markdown",
   "id": "4df9c355",
   "metadata": {},
   "source": [
    "# Residual Connections\n",
    "- These are residual connections of the input to a layer directly to the output of the computed layer through a simple addition block\n",
    "- This dramatically helps in optimization as during back propogation the gradient is able to freely flow through the addition nodes without any other computational nodes\n",
    "- This in a sense creates a super-highway directly from the output to the input, the nodes in the other forked branch of the layer eventually come online over time and kick in\n",
    "\n",
    "# Transformer Architecture\n",
    "\n",
    "![image.png](attachment:image.png)\n",
    "\n",
    "- Here we can see at each layer of the decoder block there is a residual connection to the addition and normalization block\n"
   ]
  },
  {
   "cell_type": "code",
   "execution_count": 45,
   "id": "0a301ea2",
   "metadata": {},
   "outputs": [],
   "source": [
    "class Block(nn.Module):\n",
    "    def __init__(self,n_embd,n_heads):\n",
    "        super().__init__()\n",
    "        head_size = n_embd // n_heads\n",
    "        self.sa = MultiHeadSelfAttention(n_heads,head_size)\n",
    "        self.ffw = FeedForward(n_embd)\n",
    "    \n",
    "    def forward(self,x):\n",
    "        x = x + self.sa(x) # Adding a branch off addition\n",
    "        x = x + self.ffw(x) # Adding a branch off addition\n",
    "        return x"
   ]
  },
  {
   "cell_type": "code",
   "execution_count": 46,
   "id": "ff980ae3",
   "metadata": {},
   "outputs": [],
   "source": [
    "class MultiHeadSelfAttention(nn.Module):\n",
    "    def __init__(self,num_heads,head_size):\n",
    "        super().__init__()\n",
    "        self.heads = nn.ModuleList([Head(head_size) for _ in range(num_heads)])\n",
    "        # Doubt here\n",
    "        self.proj = nn.Linear(n_embd,n_embd) # Why add a linear projection for a residual addition connection\n",
    "    \n",
    "    def forward(self,x):\n",
    "        out = torch.cat( [h(x) for h in self.heads], dim=-1 )\n",
    "        return self.proj(x)"
   ]
  },
  {
   "cell_type": "markdown",
   "id": "af830372",
   "metadata": {},
   "source": [
    "# Adding a multiplier\n",
    "- We roll out the layer to more nodes to give it more computational space\n",
    "- A multiplier of 4 was used in the original transformer paper"
   ]
  },
  {
   "cell_type": "code",
   "execution_count": 47,
   "id": "00f8a130",
   "metadata": {},
   "outputs": [],
   "source": [
    "class FeedForward(nn.Module):\n",
    "    def __init__(self,n_embd):\n",
    "        super().__init__()\n",
    "        self.net = nn.Sequential(\n",
    "            nn.Linear(n_embd,4 * n_embd),\n",
    "            nn.ReLU(),\n",
    "            nn.Linear(4 * n_embd,n_embd) # Added for residual connection\n",
    "        )\n",
    "    \n",
    "    def forward(self,x):\n",
    "        return self.net(x)"
   ]
  },
  {
   "cell_type": "code",
   "execution_count": 48,
   "id": "5d915ece",
   "metadata": {},
   "outputs": [],
   "source": [
    "lr = 1e-3\n",
    "n_embd = 64\n",
    "m = BigramLanguageModel(vocab_size)\n",
    "optimizer = torch.optim.AdamW(m.parameters(),lr=1e-4)"
   ]
  },
  {
   "cell_type": "code",
   "execution_count": 49,
   "id": "9ec8e821",
   "metadata": {},
   "outputs": [
    {
     "name": "stdout",
     "output_type": "stream",
     "text": [
      "2.797549247741699\n",
      "or, as stfc. mbRmandee\n",
      "ncorc\n"
     ]
    }
   ],
   "source": [
    "batch_size = 32\n",
    "\n",
    "for step in range(300):\n",
    "    xb,yb = get_batch(\"train\")\n",
    "    logits,loss = m(xb,yb)\n",
    "    optimizer.zero_grad()\n",
    "    loss.backward()\n",
    "    optimizer.step()\n",
    "#     if float(loss.item()) < 2.3 or float(loss.item()) > 10:\n",
    "#         print(loss.item())\n",
    "#         break\n",
    "\n",
    "print(loss.item())\n",
    "print(decode(m.generate(xb,20)[10].tolist()))"
   ]
  },
  {
   "attachments": {
    "image.png": {
     "image/png": "[encoded data removed]"
    }
   },
   "cell_type": "markdown",
   "id": "6af6e144",
   "metadata": {},
   "source": [
    "# Layer Normalization\n",
    "- We add layer normalization to optimise the neural network further for handling smaller batch sizes and make it more generalised to inputs\n",
    "- In the original transformer design the layer normalization happened after each layer, however it is important to note that over the years it has proven better to use normaliztion before each layer operation\n",
    "- It normalizes eacah feature and make it a unit gaussian distribution\n",
    "\n",
    "![image.png](attachment:image.png)\n",
    "\n",
    "- Here gamma and alpha are trainable parameters\n",
    "- x is the LAYER input and y is the normalized output"
   ]
  },
  {
   "cell_type": "code",
   "execution_count": 50,
   "id": "b00ef3af",
   "metadata": {},
   "outputs": [],
   "source": [
    "class Block(nn.Module):\n",
    "    def __init__(self,n_embd,n_heads):\n",
    "        super().__init__()\n",
    "        head_size = n_embd // n_heads\n",
    "        self.sa = MultiHeadSelfAttention(n_heads,head_size)\n",
    "        self.ffw = FeedForward(n_embd)\n",
    "        self.ln1 = nn.LayerNorm(n_embd)\n",
    "        self.ln2 = nn.LayerNorm(n_embd)\n",
    "    \n",
    "    def forward(self,x):\n",
    "        x = x + self.sa(self.ln1(x)) # Adding a branch off addition\n",
    "        x = x + self.ffw(self.ln2(x)) # Adding a branch off addition\n",
    "        return x"
   ]
  },
  {
   "cell_type": "code",
   "execution_count": 51,
   "id": "c30082d9",
   "metadata": {},
   "outputs": [],
   "source": [
    "class BigramLanguageModel(nn.Module):\n",
    "    def __init__(self,vocab_size):\n",
    "        super().__init__()\n",
    "        self.token_embedding_table = nn.Embedding(vocab_size,n_embd)\n",
    "        \n",
    "        # Dimensions: (T,C)\n",
    "        self.positional_encoding_table = nn.Embedding(block_size,n_embd) # Each row represents the position and column which token\n",
    "#         self.sa_head = MultiHeadSelfAttention(4,n_embd//4) # Multi-Head Self attention head\n",
    "#         self.ffw = FeedForward(n_embd)\n",
    "        self.blocks = nn.Sequential(\n",
    "            Block(n_embd,n_heads=4),\n",
    "            Block(n_embd,n_heads=4),\n",
    "            Block(n_embd,n_heads=4),\n",
    "            nn.LayerNorm(n_embd)\n",
    "        )\n",
    "        self.lm_head = nn.Linear(n_embd,vocab_size)\n",
    "\n",
    "    def forward(self,x,y=None):\n",
    "        \n",
    "        # B -> Batches\n",
    "#         T -> Times / Block Size\n",
    "#         C -> Characters / Vocab Size\n",
    "#         x and y both are of dimensions (B,T)\n",
    "\n",
    "        B,T = x.shape\n",
    "        token_embd = self.token_embedding_table(x) # (B,T) --> (B,T,C)\n",
    "        posn_embd = self.positional_encoding_table(torch.arange(T)) # (T) --> (T,C)\n",
    "        \n",
    "        combined = token_embd + posn_embd # (B,T,C)\n",
    "#         combined = self.sa_head(combined) # (B,T,H) [H=Head Size, in this case H=C]\n",
    "#         ffw = self.ffw(combined) # (B,T,C)\n",
    "\n",
    "        x = self.blocks(combined)\n",
    "        \n",
    "        logits = self.lm_head(x)\n",
    "    \n",
    "        # Cross entropy expects input in a 2D form (B*T,C)\n",
    "        if y is None:\n",
    "            loss = None\n",
    "        else:\n",
    "            B,T,C = logits.shape\n",
    "            logits = logits.view(B*T,C)\n",
    "            y = y.view(B*T)\n",
    "\n",
    "            loss = F.cross_entropy(logits,y)\n",
    "    \n",
    "        return logits, loss\n",
    "    \n",
    "    def generate(self,x,max_tokens):\n",
    "        \n",
    "        for _ in range(max_tokens):\n",
    "            idx_cond = x[:,-block_size:]\n",
    "            \n",
    "            logits,loss = self(idx_cond)\n",
    "            \n",
    "            # keep logits for each batch\n",
    "            logits = logits[:,-1,:] # B,T,C -> B,C\n",
    "            \n",
    "            # convert logits to a probability distribution\n",
    "            # Dimesion: BxC\n",
    "            probs = F.softmax( logits,dim=-1 ) # Apply softmax to the last dimension\n",
    "#             print(probs)\n",
    "            \n",
    "            # Dimesnion: 1xB\n",
    "            next_idx = torch.multinomial(probs,num_samples=1) # get 1 value with maximum probability from each batch\n",
    "#             print(next_idx)\n",
    "            x = torch.cat( (x,next_idx),dim=1 ) # Add to the next character: (B,T) -> (B,T+1)\n",
    "        \n",
    "        return x"
   ]
  },
  {
   "cell_type": "code",
   "execution_count": 52,
   "id": "a4fa01c2",
   "metadata": {},
   "outputs": [],
   "source": [
    "lr = 1e-3\n",
    "n_embd = 64\n",
    "m = BigramLanguageModel(vocab_size)\n",
    "optimizer = torch.optim.AdamW(m.parameters(),lr=1e-4)"
   ]
  },
  {
   "cell_type": "code",
   "execution_count": 53,
   "id": "e1060a92",
   "metadata": {},
   "outputs": [
    {
     "ename": "KeyboardInterrupt",
     "evalue": "",
     "output_type": "error",
     "traceback": [
      "\u001b[1;31m---------------------------------------------------------------------------\u001b[0m",
      "\u001b[1;31mKeyboardInterrupt\u001b[0m                         Traceback (most recent call last)",
      "\u001b[1;32m~\\AppData\\Local\\Temp\\ipykernel_14164\\1229956657.py\u001b[0m in \u001b[0;36m<module>\u001b[1;34m\u001b[0m\n\u001b[0;32m      6\u001b[0m     \u001b[0mlogits\u001b[0m\u001b[1;33m,\u001b[0m\u001b[0mloss\u001b[0m \u001b[1;33m=\u001b[0m \u001b[0mm\u001b[0m\u001b[1;33m(\u001b[0m\u001b[0mxb\u001b[0m\u001b[1;33m,\u001b[0m\u001b[0myb\u001b[0m\u001b[1;33m)\u001b[0m\u001b[1;33m\u001b[0m\u001b[0m\n\u001b[0;32m      7\u001b[0m     \u001b[0moptimizer\u001b[0m\u001b[1;33m.\u001b[0m\u001b[0mzero_grad\u001b[0m\u001b[1;33m(\u001b[0m\u001b[1;33m)\u001b[0m\u001b[1;33m\u001b[0m\u001b[0m\n\u001b[1;32m----> 8\u001b[1;33m     \u001b[0mloss\u001b[0m\u001b[1;33m.\u001b[0m\u001b[0mbackward\u001b[0m\u001b[1;33m(\u001b[0m\u001b[1;33m)\u001b[0m\u001b[1;33m\u001b[0m\u001b[0m\n\u001b[0m\u001b[0;32m      9\u001b[0m     \u001b[0moptimizer\u001b[0m\u001b[1;33m.\u001b[0m\u001b[0mstep\u001b[0m\u001b[1;33m(\u001b[0m\u001b[1;33m)\u001b[0m\u001b[1;33m\u001b[0m\u001b[0m\n\u001b[0;32m     10\u001b[0m     \u001b[1;32mif\u001b[0m \u001b[0mfloat\u001b[0m\u001b[1;33m(\u001b[0m\u001b[0mloss\u001b[0m\u001b[1;33m.\u001b[0m\u001b[0mitem\u001b[0m\u001b[1;33m(\u001b[0m\u001b[1;33m)\u001b[0m\u001b[1;33m)\u001b[0m \u001b[1;33m<\u001b[0m \u001b[1;36m2\u001b[0m \u001b[1;32mor\u001b[0m \u001b[0mfloat\u001b[0m\u001b[1;33m(\u001b[0m\u001b[0mloss\u001b[0m\u001b[1;33m.\u001b[0m\u001b[0mitem\u001b[0m\u001b[1;33m(\u001b[0m\u001b[1;33m)\u001b[0m\u001b[1;33m)\u001b[0m \u001b[1;33m>\u001b[0m \u001b[1;36m10\u001b[0m\u001b[1;33m:\u001b[0m\u001b[1;33m\u001b[0m\u001b[0m\n",
      "\u001b[1;32mc:\\users\\deves\\appdata\\local\\programs\\python\\python37\\lib\\site-packages\\torch\\_tensor.py\u001b[0m in \u001b[0;36mbackward\u001b[1;34m(self, gradient, retain_graph, create_graph, inputs)\u001b[0m\n\u001b[0;32m    487\u001b[0m             )\n\u001b[0;32m    488\u001b[0m         torch.autograd.backward(\n\u001b[1;32m--> 489\u001b[1;33m             \u001b[0mself\u001b[0m\u001b[1;33m,\u001b[0m \u001b[0mgradient\u001b[0m\u001b[1;33m,\u001b[0m \u001b[0mretain_graph\u001b[0m\u001b[1;33m,\u001b[0m \u001b[0mcreate_graph\u001b[0m\u001b[1;33m,\u001b[0m \u001b[0minputs\u001b[0m\u001b[1;33m=\u001b[0m\u001b[0minputs\u001b[0m\u001b[1;33m\u001b[0m\u001b[0m\n\u001b[0m\u001b[0;32m    490\u001b[0m         )\n\u001b[0;32m    491\u001b[0m \u001b[1;33m\u001b[0m\u001b[0m\n",
      "\u001b[1;32mc:\\users\\deves\\appdata\\local\\programs\\python\\python37\\lib\\site-packages\\torch\\autograd\\__init__.py\u001b[0m in \u001b[0;36mbackward\u001b[1;34m(tensors, grad_tensors, retain_graph, create_graph, grad_variables, inputs)\u001b[0m\n\u001b[0;32m    197\u001b[0m     Variable._execution_engine.run_backward(  # Calls into the C++ engine to run the backward pass\n\u001b[0;32m    198\u001b[0m         \u001b[0mtensors\u001b[0m\u001b[1;33m,\u001b[0m \u001b[0mgrad_tensors_\u001b[0m\u001b[1;33m,\u001b[0m \u001b[0mretain_graph\u001b[0m\u001b[1;33m,\u001b[0m \u001b[0mcreate_graph\u001b[0m\u001b[1;33m,\u001b[0m \u001b[0minputs\u001b[0m\u001b[1;33m,\u001b[0m\u001b[1;33m\u001b[0m\u001b[0m\n\u001b[1;32m--> 199\u001b[1;33m         allow_unreachable=True, accumulate_grad=True)  # Calls into the C++ engine to run the backward pass\n\u001b[0m\u001b[0;32m    200\u001b[0m \u001b[1;33m\u001b[0m\u001b[0m\n\u001b[0;32m    201\u001b[0m def grad(\n",
      "\u001b[1;31mKeyboardInterrupt\u001b[0m: "
     ]
    }
   ],
   "source": [
    "batch_size = 32\n",
    "block_size = 8\n",
    "\n",
    "for step in range(30000):\n",
    "    xb,yb = get_batch(\"train\")\n",
    "    logits,loss = m(xb,yb)\n",
    "    optimizer.zero_grad()\n",
    "    loss.backward()\n",
    "    optimizer.step()\n",
    "    if float(loss.item()) < 2 or float(loss.item()) > 10:\n",
    "        print(loss.item())\n",
    "        break\n",
    "\n",
    "print(loss.item())\n",
    "print(decode(m.generate(xb,20)[10].tolist()))"
   ]
  },
  {
   "cell_type": "code",
   "execution_count": 54,
   "id": "7248dba6",
   "metadata": {},
   "outputs": [
    {
     "name": "stdout",
     "output_type": "stream",
     "text": [
      "and in pXore tr theaweBI ce pred nd id ve m h y po tet.\n",
      "Uout pofdoonofnshandasay hesn fou d,\n",
      "-OCilemellll d :\n",
      "LKELalle thou me ag Ch h.\n",
      "O\n",
      "Al\n",
      "DYorfonoin ieayor'. d\n",
      "\n",
      "Muratllyous hpresese hivis weTV t aly; an f \n"
     ]
    }
   ],
   "source": [
    "print(decode(m.generate(xb,200)[10].tolist()))"
   ]
  },
  {
   "cell_type": "code",
   "execution_count": 55,
   "id": "3037021f",
   "metadata": {},
   "outputs": [
    {
     "data": {
      "text/plain": [
       "0.158401"
      ]
     },
     "execution_count": 55,
     "metadata": {},
     "output_type": "execute_result"
    }
   ],
   "source": [
    "sum(p.numel() for p in m.parameters())/1e6"
   ]
  },
  {
   "cell_type": "markdown",
   "id": "5aedc454",
   "metadata": {},
   "source": [
    "# Fine-Tuning\n",
    "- So far we have worked on the 1st of the 2 phases in chatGPT that is the pre-training phase\n",
    "- The current model is trained to complete a document or finish a sentence and generate further\n",
    "- If you ask it a question if will probably give you more similar question or try to complete it\n",
    "- To train it like an assistant fine-tuning is required\n",
    "- It is much harder to fine tune as it requires manual data creation and an independent RL model using PPO to rate the outputs of the model"
   ]
  },
  {
   "cell_type": "code",
   "execution_count": 56,
   "id": "90a754a7",
   "metadata": {},
   "outputs": [
    {
     "data": {
      "text/plain": [
       "65"
      ]
     },
     "execution_count": 56,
     "metadata": {},
     "output_type": "execute_result"
    }
   ],
   "source": [
    "vocab_size"
   ]
  },
  {
   "cell_type": "code",
   "execution_count": 57,
   "id": "e47b704f",
   "metadata": {},
   "outputs": [
    {
     "name": "stdout",
     "output_type": "stream",
     "text": [
      "maculatea e ilere bndove orch.omathoathIfthecoulou chand th tht ld orreriofocecighellillermogh s to llli?\n",
      "GEANGouce fir s;\n",
      "\n",
      "Hav:\n",
      "F 'semeld avein ge\n",
      "\n",
      "Tun Ashy toforand wouse llserere.\n",
      "\n",
      "TKLAAnderoigr d domy.\n",
      "We\n"
     ]
    }
   ],
   "source": [
    "print(decode(m.generate(xb,200)[5].tolist()))"
   ]
  },
  {
   "cell_type": "code",
   "execution_count": 58,
   "id": "6ed6474c",
   "metadata": {},
   "outputs": [
    {
     "name": "stdout",
     "output_type": "stream",
     "text": [
      "aculate \n"
     ]
    }
   ],
   "source": [
    "print(decode(yb[5].tolist()))"
   ]
  },
  {
   "cell_type": "code",
   "execution_count": 61,
   "id": "65898a45",
   "metadata": {},
   "outputs": [
    {
     "data": {
      "text/plain": [
       "61"
      ]
     },
     "execution_count": 61,
     "metadata": {},
     "output_type": "execute_result"
    }
   ],
   "source": [
    "len(encode(\"#include<stdio.h>int main(){printf(\\\"Hellow daaddy\\\");return 0;\"))"
   ]
  },
  {
   "cell_type": "code",
   "execution_count": 60,
   "id": "a8abd423",
   "metadata": {},
   "outputs": [],
   "source": [
    "stoi[\"#\"] = 1000\n",
    "stoi[\"<\"] = 1001\n",
    "stoi[\">\"] = 1002\n",
    "stoi[\"(\"] = 1003\n",
    "stoi[\")\"] = 1004\n",
    "stoi[\"\\\\\"] = 1005\n",
    "stoi[\"{\"] = 1006\n",
    "stoi[\"}\"] = 1007\n",
    "stoi[\"\\\"\"] = 1008\n",
    "stoi[\"0\"] = 1009"
   ]
  },
  {
   "cell_type": "code",
   "execution_count": null,
   "id": "0da3d52e",
   "metadata": {},
   "outputs": [],
   "source": [
    "stoi.keys()"
   ]
  },
  {
   "cell_type": "code",
   "execution_count": null,
   "id": "cb72bbbd",
   "metadata": {},
   "outputs": [],
   "source": [
    "len([2, 17256, 27, 19282, 952, 13, 71, 29, 198, 198, 600, 1388, 39893, 198, 37435, 7203, 39, 5037, 12379, 13218, 15341, 198, 198, 7783, 657, 26, 198, 92, 628])"
   ]
  },
  {
   "cell_type": "code",
   "execution_count": null,
   "id": "92c07ca8",
   "metadata": {},
   "outputs": [],
   "source": [
    "yb"
   ]
  },
  {
   "cell_type": "code",
   "execution_count": null,
   "id": "4c5682c0",
   "metadata": {},
   "outputs": [],
   "source": [
    "xb"
   ]
  },
  {
   "cell_type": "code",
   "execution_count": null,
   "id": "4493b450",
   "metadata": {},
   "outputs": [],
   "source": []
  },
  {
   "cell_type": "code",
   "execution_count": null,
   "id": "61c7a2df",
   "metadata": {},
   "outputs": [],
   "source": []
  },
  {
   "cell_type": "code",
   "execution_count": null,
   "id": "a04fc3c6",
   "metadata": {},
   "outputs": [],
   "source": []
  },
  {
   "cell_type": "code",
   "execution_count": null,
   "id": "925e8a48",
   "metadata": {},
   "outputs": [],
   "source": []
  }
 ],
 "metadata": {
  "kernelspec": {
   "display_name": "Python 3 (ipykernel)",
   "language": "python",
   "name": "python3"
  },
  "language_info": {
   "codemirror_mode": {
    "name": "ipython",
    "version": 3
   },
   "file_extension": ".py",
   "mimetype": "text/x-python",
   "name": "python",
   "nbconvert_exporter": "python",
   "pygments_lexer": "ipython3",
   "version": "3.7.0"
  }
 },
 "nbformat": 4,
 "nbformat_minor": 5
}
